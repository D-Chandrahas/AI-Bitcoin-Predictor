{
 "cells": [
  {
   "cell_type": "code",
   "execution_count": 1,
   "id": "34fa8ec8-2aaa-4f4b-8717-4e0ebcef9e90",
   "metadata": {},
   "outputs": [],
   "source": [
    "from tensorflow import keras\n",
    "import numpy as np\n",
    "import pandas as pd\n",
    "import requests\n",
    "import json"
   ]
  },
  {
   "cell_type": "code",
   "execution_count": 2,
   "id": "9ab13a9a-06f4-46ac-8d86-ef482fcea8ac",
   "metadata": {},
   "outputs": [],
   "source": [
    "model_save_path = \"model\"\n",
    "model = keras.models.load_model(model_save_path)"
   ]
  },
  {
   "cell_type": "code",
   "execution_count": 3,
   "id": "5d56e047-b335-48a6-bafb-ea2982bfba4f",
   "metadata": {},
   "outputs": [],
   "source": [
    "req = requests.get(\"https://api.coinranking.com/v2/coin/Qwsogvtv82FCd/history\")\n",
    "price_history = json.loads(req.text)[\"data\"][\"history\"]"
   ]
  },
  {
   "cell_type": "code",
   "execution_count": 4,
   "id": "94eb109f-4059-4ab1-baf2-94b94408acc7",
   "metadata": {},
   "outputs": [],
   "source": [
    "df = pd.DataFrame(price_history)\n",
    "df = pd.to_numeric(df[\"price\"])"
   ]
  },
  {
   "cell_type": "code",
   "execution_count": 5,
   "id": "77ddc832-03a9-493b-bda7-fad1b5d09a24",
   "metadata": {},
   "outputs": [],
   "source": [
    "pred_inp = np.array([[df.max(),df.min()]])"
   ]
  },
  {
   "cell_type": "code",
   "execution_count": 6,
   "id": "00e9be88-3093-474f-8c4c-40abff27f59b",
   "metadata": {},
   "outputs": [
    {
     "name": "stdout",
     "output_type": "stream",
     "text": [
      "tf.Tensor([[31292.271 29672.244]], shape=(1, 2), dtype=float32)\n"
     ]
    }
   ],
   "source": [
    "pred_out = model(np.array([pred_inp]))\n",
    "print(pred_out)"
   ]
  }
 ],
 "metadata": {
  "kernelspec": {
   "display_name": "Python 3 (ipykernel)",
   "language": "python",
   "name": "python3"
  },
  "language_info": {
   "codemirror_mode": {
    "name": "ipython",
    "version": 3
   },
   "file_extension": ".py",
   "mimetype": "text/x-python",
   "name": "python",
   "nbconvert_exporter": "python",
   "pygments_lexer": "ipython3",
   "version": "3.10.4"
  }
 },
 "nbformat": 4,
 "nbformat_minor": 5
}
