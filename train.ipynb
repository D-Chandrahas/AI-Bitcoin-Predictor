{
 "cells": [
  {
   "cell_type": "code",
   "execution_count": 1,
   "id": "34557a1e-79b8-4c18-8ace-a640be5da3c0",
   "metadata": {},
   "outputs": [],
   "source": [
    "import numpy as np\n",
    "from tensorflow import keras\n",
    "import os\n",
    "from my_functions import my_save"
   ]
  },
  {
   "cell_type": "code",
   "execution_count": 2,
   "id": "a5bea1ce-2a0d-4208-8f51-29e9b20a6ad3",
   "metadata": {},
   "outputs": [],
   "source": [
    "train_inp = np.load(\"training_data/training_inputs.npy\")\n",
    "train_out = np.load(\"training_data/training_outputs.npy\")\n",
    "test_inp = np.load(\"test_data/test_inputs.npy\")\n",
    "test_out = np.load(\"test_data/test_outputs.npy\")"
   ]
  },
  {
   "cell_type": "code",
   "execution_count": 3,
   "id": "cec0d6d8-d281-4bf4-aef4-c367b14fb6d9",
   "metadata": {},
   "outputs": [
    {
     "name": "stdout",
     "output_type": "stream",
     "text": [
      "Model: \"sequential\"\n",
      "_________________________________________________________________\n",
      " Layer (type)                Output Shape              Param #   \n",
      "=================================================================\n",
      " flatten (Flatten)           (None, 2)                 0         \n",
      "                                                                 \n",
      " dense (Dense)               (None, 64)                192       \n",
      "                                                                 \n",
      " dense_1 (Dense)             (None, 32)                2080      \n",
      "                                                                 \n",
      " dense_2 (Dense)             (None, 16)                528       \n",
      "                                                                 \n",
      " dense_3 (Dense)             (None, 2)                 34        \n",
      "                                                                 \n",
      "=================================================================\n",
      "Total params: 2,834\n",
      "Trainable params: 2,834\n",
      "Non-trainable params: 0\n",
      "_________________________________________________________________\n"
     ]
    }
   ],
   "source": [
    "DAYS = 1\n",
    "\n",
    "model = keras.Sequential([\n",
    "    keras.layers.Flatten(input_shape=(DAYS, 2)),\n",
    "    keras.layers.Dense(64, activation='relu'),\n",
    "    keras.layers.Dense(32, activation='relu'),\n",
    "    keras.layers.Dense(16, activation='relu'),\n",
    "    keras.layers.Dense(2)\n",
    "])\n",
    "model.summary()"
   ]
  },
  {
   "cell_type": "code",
   "execution_count": 4,
   "id": "14cc112e-ef5e-408a-bef1-3876fdbc3ec8",
   "metadata": {},
   "outputs": [],
   "source": [
    "model.compile(optimizer = keras.optimizers.Adam(),\n",
    "              loss = keras.losses.MeanAbsoluteError(),\n",
    "              metrics=[keras.metrics.MeanAbsoluteError()]\n",
    "             )"
   ]
  },
  {
   "cell_type": "code",
   "execution_count": 5,
   "id": "16c9043b-74d6-44ba-8ee5-ad31990acf93",
   "metadata": {},
   "outputs": [
    {
     "name": "stdout",
     "output_type": "stream",
     "text": [
      "Epoch 1/30\n",
      "85/85 [==============================] - 1s 3ms/step - loss: 2154.9626 - mean_absolute_error: 2154.9626\n",
      "Epoch 2/30\n",
      "85/85 [==============================] - 0s 3ms/step - loss: 209.3429 - mean_absolute_error: 209.3429\n",
      "Epoch 3/30\n",
      "85/85 [==============================] - 0s 3ms/step - loss: 217.7579 - mean_absolute_error: 217.7579\n",
      "Epoch 4/30\n",
      "85/85 [==============================] - 0s 3ms/step - loss: 218.4986 - mean_absolute_error: 218.4986\n",
      "Epoch 5/30\n",
      "85/85 [==============================] - 0s 3ms/step - loss: 216.6755 - mean_absolute_error: 216.6755\n",
      "Epoch 6/30\n",
      "85/85 [==============================] - 0s 3ms/step - loss: 213.4026 - mean_absolute_error: 213.4026\n",
      "Epoch 7/30\n",
      "85/85 [==============================] - 0s 3ms/step - loss: 201.8147 - mean_absolute_error: 201.8147\n",
      "Epoch 8/30\n",
      "85/85 [==============================] - 0s 3ms/step - loss: 226.8879 - mean_absolute_error: 226.8879\n",
      "Epoch 9/30\n",
      "85/85 [==============================] - 0s 3ms/step - loss: 207.5973 - mean_absolute_error: 207.5973\n",
      "Epoch 10/30\n",
      "85/85 [==============================] - 0s 3ms/step - loss: 205.7912 - mean_absolute_error: 205.7912\n",
      "Epoch 11/30\n",
      "85/85 [==============================] - 0s 3ms/step - loss: 208.4916 - mean_absolute_error: 208.4916\n",
      "Epoch 12/30\n",
      "85/85 [==============================] - 0s 3ms/step - loss: 206.3040 - mean_absolute_error: 206.3040\n",
      "Epoch 13/30\n",
      "85/85 [==============================] - 0s 3ms/step - loss: 215.7887 - mean_absolute_error: 215.7887\n",
      "Epoch 14/30\n",
      "85/85 [==============================] - 0s 3ms/step - loss: 216.8141 - mean_absolute_error: 216.8141\n",
      "Epoch 15/30\n",
      "85/85 [==============================] - 0s 3ms/step - loss: 205.6954 - mean_absolute_error: 205.6954\n",
      "Epoch 16/30\n",
      "85/85 [==============================] - 0s 3ms/step - loss: 236.5843 - mean_absolute_error: 236.5843\n",
      "Epoch 17/30\n",
      "85/85 [==============================] - 0s 3ms/step - loss: 228.6846 - mean_absolute_error: 228.6846\n",
      "Epoch 18/30\n",
      "85/85 [==============================] - 0s 3ms/step - loss: 208.3280 - mean_absolute_error: 208.3280\n",
      "Epoch 19/30\n",
      "85/85 [==============================] - 0s 3ms/step - loss: 202.0828 - mean_absolute_error: 202.0828\n",
      "Epoch 20/30\n",
      "85/85 [==============================] - 0s 3ms/step - loss: 201.6425 - mean_absolute_error: 201.6425\n",
      "Epoch 21/30\n",
      "85/85 [==============================] - 0s 3ms/step - loss: 213.0263 - mean_absolute_error: 213.0263\n",
      "Epoch 22/30\n",
      "85/85 [==============================] - 0s 3ms/step - loss: 199.9105 - mean_absolute_error: 199.9105\n",
      "Epoch 23/30\n",
      "85/85 [==============================] - 0s 3ms/step - loss: 212.4294 - mean_absolute_error: 212.4294\n",
      "Epoch 24/30\n",
      "85/85 [==============================] - 0s 3ms/step - loss: 203.3549 - mean_absolute_error: 203.3549\n",
      "Epoch 25/30\n",
      "85/85 [==============================] - 0s 3ms/step - loss: 208.2959 - mean_absolute_error: 208.2959\n",
      "Epoch 26/30\n",
      "85/85 [==============================] - 0s 4ms/step - loss: 201.3594 - mean_absolute_error: 201.3594\n",
      "Epoch 27/30\n",
      "85/85 [==============================] - 0s 4ms/step - loss: 206.1381 - mean_absolute_error: 206.1381\n",
      "Epoch 28/30\n",
      "85/85 [==============================] - 0s 3ms/step - loss: 203.5232 - mean_absolute_error: 203.5232\n",
      "Epoch 29/30\n",
      "85/85 [==============================] - 0s 4ms/step - loss: 200.6655 - mean_absolute_error: 200.6655\n",
      "Epoch 30/30\n",
      "85/85 [==============================] - 0s 4ms/step - loss: 208.1843 - mean_absolute_error: 208.1843\n"
     ]
    },
    {
     "data": {
      "text/plain": [
       "<keras.callbacks.History at 0x204c7678910>"
      ]
     },
     "execution_count": 5,
     "metadata": {},
     "output_type": "execute_result"
    }
   ],
   "source": [
    "model.fit(train_inp, train_out, epochs=30, verbose=1)"
   ]
  },
  {
   "cell_type": "code",
   "execution_count": 6,
   "id": "82b6eccb-28fb-41af-a57f-0ec953d2dcef",
   "metadata": {},
   "outputs": [
    {
     "name": "stdout",
     "output_type": "stream",
     "text": [
      "10/10 [==============================] - 0s 2ms/step - loss: 171.4048 - mean_absolute_error: 171.4048\n"
     ]
    },
    {
     "data": {
      "text/plain": [
       "[171.40475463867188, 171.40475463867188]"
      ]
     },
     "execution_count": 6,
     "metadata": {},
     "output_type": "execute_result"
    }
   ],
   "source": [
    "model.evaluate(test_inp, test_out, verbose=1)"
   ]
  },
  {
   "cell_type": "code",
   "execution_count": 7,
   "id": "2bc8da5d-2ce3-4985-b16f-a2b9b84e1894",
   "metadata": {},
   "outputs": [
    {
     "name": "stdout",
     "output_type": "stream",
     "text": [
      "INFO:tensorflow:Assets written to: model(1)(1)\\assets\n"
     ]
    }
   ],
   "source": [
    "model_save_path = \"model\"\n",
    "\n",
    "my_save(model,model_save_path)"
   ]
  }
 ],
 "metadata": {
  "kernelspec": {
   "display_name": "Python 3 (ipykernel)",
   "language": "python",
   "name": "python3"
  },
  "language_info": {
   "codemirror_mode": {
    "name": "ipython",
    "version": 3
   },
   "file_extension": ".py",
   "mimetype": "text/x-python",
   "name": "python",
   "nbconvert_exporter": "python",
   "pygments_lexer": "ipython3",
   "version": "3.10.4"
  },
  "toc-autonumbering": false,
  "toc-showtags": false
 },
 "nbformat": 4,
 "nbformat_minor": 5
}
